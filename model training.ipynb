{
 "cells": [
  {
   "cell_type": "code",
   "execution_count": 4,
   "id": "12a317b6",
   "metadata": {},
   "outputs": [
    {
     "data": {
      "text/plain": [
       "array([ 37731., 122391.,  57081.,  63218., 116969., 109431., 112635.,\n",
       "        55794.,  83088., 101302.])"
      ]
     },
     "execution_count": 4,
     "metadata": {},
     "output_type": "execute_result"
    }
   ],
   "source": [
    "# importing the dataset\n",
    "import numpy as np\n",
    "import pandas as pd\n",
    "import matplotlib.pyplot as plt\n",
    "  \n",
    "dataset = pd.read_csv(r'C:\\Users\\avata\\Downloads\\dataset-simple-linear-master\\dataset-simple-linear-master\\Salary_Data.csv')\n",
    "dataset.head()\n",
    " \n",
    "# data preprocessing\n",
    "X = dataset.iloc[:, :-1].values  #independent variable array\n",
    "y = dataset.iloc[:,1].values  #dependent variable vector\n",
    " \n",
    "# splitting the dataset\n",
    "from sklearn.model_selection import train_test_split\n",
    "X_train, X_test, y_train, y_test = train_test_split(X,y,test_size=1/3,random_state=0)\n",
    " \n",
    "# fitting the regression model\n",
    "from sklearn.linear_model import LinearRegression\n",
    "classifier = LinearRegression()\n",
    "classifier.fit(X_train,y_train) #actually produces the linear eqn for the data\n",
    " \n",
    "# predicting the test set results\n",
    "y_pred = classifier.predict(X_test) \n",
    "y_pred\n",
    " \n",
    "y_test\n",
    " \n"
   ]
  },
  {
   "cell_type": "code",
   "execution_count": 5,
   "id": "db78a5be",
   "metadata": {},
   "outputs": [],
   "source": [
    "# Create a Pickle file  \n",
    "import pickle\n",
    "pickle_out = open(\"classifier.pkl\",\"wb\")\n",
    "pickle.dump(classifier, pickle_out)\n",
    "pickle_out.close()"
   ]
  },
  {
   "cell_type": "code",
   "execution_count": null,
   "id": "6e85be2e",
   "metadata": {},
   "outputs": [],
   "source": []
  }
 ],
 "metadata": {
  "kernelspec": {
   "display_name": "Python 3",
   "language": "python",
   "name": "python3"
  },
  "language_info": {
   "codemirror_mode": {
    "name": "ipython",
    "version": 3
   },
   "file_extension": ".py",
   "mimetype": "text/x-python",
   "name": "python",
   "nbconvert_exporter": "python",
   "pygments_lexer": "ipython3",
   "version": "3.8.8"
  }
 },
 "nbformat": 4,
 "nbformat_minor": 5
}
